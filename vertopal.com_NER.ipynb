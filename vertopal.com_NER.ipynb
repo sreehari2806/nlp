{
 "cells": [
  {
   "cell_type": "markdown",
   "metadata": {},
   "source": [
    "**<u>PROGRAM</u>**\n",
    "\n",
    "import nltk\n",
    "\n",
    "nltk.download('averaged_perceptron_tagger')\n",
    "\n",
    "nltk.download('maxent_ne_chunker')\n",
    "\n",
    "nltk.download('words')\n",
    "\n",
    "text=\"John works for Google in Newyork.\"\n",
    "\n",
    "tokens=nltk.word_tokenize(text)\n",
    "\n",
    "tagged=nltk.pos_tag(tokens)\n",
    "\n",
    "entities=nltk.chunk.ne_chunk(tagged)\n",
    "\n",
    "for entity in entities:\n",
    "\n",
    "if hasattr(entity,'label'):\n",
    "\n",
    "print(entity.label(),''.join(c\\[0\\] for c in entity.leaves()))\n",
    "\n",
    "**<u>OUTPUT</u>**\n",
    "\n",
    "PERSON John\n",
    "\n",
    "GPE Google\n",
    "\n",
    "GPE Newyork"
   ],
   "id": "42a14256-91c8-446e-92a7-ab6bf11055d3"
  }
 ],
 "nbformat": 4,
 "nbformat_minor": 5,
 "metadata": {}
}
