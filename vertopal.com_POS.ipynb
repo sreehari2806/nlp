{
 "cells": [
  {
   "cell_type": "markdown",
   "metadata": {},
   "source": [
    "**<u>PROGRAM</u>**\n",
    "\n",
    "import nltk  \n",
    "nltk.download('averaged_perceptron_tagger')  \n",
    "nltk.download('punkt')  \n",
    "nltk.download('stopwords')  \n",
    "nltk.download('wordnet')  \n",
    "from nltk.corpus import stopwords  \n",
    "from nltk.stem import WordNetLemmatizer  \n",
    "line=\"the quick brown fox jumps over the lazy dog\"  \n",
    "tokens=nltk.word_tokenize(line)  \n",
    "stopwords=set(stopwords.words('english'))  \n",
    "filtered_tokens=\\[token for token in tokens if token.lower() not in\n",
    "stopwords\\]  \n",
    "lemmatizer=WordNetLemmatizer()  \n",
    "lemmatized_tokens=\\[lemmatizer.lemmatize(token)for token in\n",
    "filtered_tokens\\]  \n",
    "pos_tags=nltk.pos_tag(lemmatized_tokens)  \n",
    "pos_word_corpus=\\[(word,tag)for word,tag in pos_tags\\]  \n",
    "for word,tag in pos_word_corpus:  \n",
    "print(word,\":\",tag)\n",
    "\n",
    "**<u>OUTPUT</u>**\n",
    "\n",
    "quick : JJ\n",
    "\n",
    "brown : NN\n",
    "\n",
    "fox : JJ\n",
    "\n",
    "jump : NN\n",
    "\n",
    "lazy : NN\n",
    "\n",
    "dog : NN"
   ],
   "id": "42a14256-91c8-446e-92a7-ab6bf11055d3"
  }
 ],
 "nbformat": 4,
 "nbformat_minor": 5,
 "metadata": {}
}
